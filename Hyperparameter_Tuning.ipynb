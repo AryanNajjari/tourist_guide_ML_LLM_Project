{
 "cells": [
  {
   "cell_type": "code",
   "execution_count": 17,
   "id": "d83d6bb2-1106-4b9f-8ee9-197a5df72d83",
   "metadata": {},
   "outputs": [
    {
     "name": "stdout",
     "output_type": "stream",
     "text": [
      "Shape: (6704, 6)\n"
     ]
    }
   ],
   "source": [
    "# imports\n",
    "import pandas as pd\n",
    "import numpy as np\n",
    "\n",
    "# Load dataset \n",
    "df = pd.read_csv(\"Salary_Data.csv\")\n",
    "\n",
    "# Quick look\n",
    "print(\"Shape:\", df.shape)"
   ]
  },
  {
   "cell_type": "code",
   "execution_count": 18,
   "id": "3406e8b7-054d-44d2-b397-7243ee00f04b",
   "metadata": {},
   "outputs": [
    {
     "data": {
      "text/html": [
       "<div>\n",
       "<style scoped>\n",
       "    .dataframe tbody tr th:only-of-type {\n",
       "        vertical-align: middle;\n",
       "    }\n",
       "\n",
       "    .dataframe tbody tr th {\n",
       "        vertical-align: top;\n",
       "    }\n",
       "\n",
       "    .dataframe thead th {\n",
       "        text-align: right;\n",
       "    }\n",
       "</style>\n",
       "<table border=\"1\" class=\"dataframe\">\n",
       "  <thead>\n",
       "    <tr style=\"text-align: right;\">\n",
       "      <th></th>\n",
       "      <th>Age</th>\n",
       "      <th>Gender</th>\n",
       "      <th>Education Level</th>\n",
       "      <th>Job Title</th>\n",
       "      <th>Years of Experience</th>\n",
       "      <th>Salary</th>\n",
       "    </tr>\n",
       "  </thead>\n",
       "  <tbody>\n",
       "    <tr>\n",
       "      <th>0</th>\n",
       "      <td>32.0</td>\n",
       "      <td>Male</td>\n",
       "      <td>Bachelor's</td>\n",
       "      <td>Software Engineer</td>\n",
       "      <td>5.0</td>\n",
       "      <td>90000.0</td>\n",
       "    </tr>\n",
       "    <tr>\n",
       "      <th>1</th>\n",
       "      <td>28.0</td>\n",
       "      <td>Female</td>\n",
       "      <td>Master's</td>\n",
       "      <td>Data Analyst</td>\n",
       "      <td>3.0</td>\n",
       "      <td>65000.0</td>\n",
       "    </tr>\n",
       "    <tr>\n",
       "      <th>2</th>\n",
       "      <td>45.0</td>\n",
       "      <td>Male</td>\n",
       "      <td>PhD</td>\n",
       "      <td>Senior Manager</td>\n",
       "      <td>15.0</td>\n",
       "      <td>150000.0</td>\n",
       "    </tr>\n",
       "    <tr>\n",
       "      <th>3</th>\n",
       "      <td>36.0</td>\n",
       "      <td>Female</td>\n",
       "      <td>Bachelor's</td>\n",
       "      <td>Sales Associate</td>\n",
       "      <td>7.0</td>\n",
       "      <td>60000.0</td>\n",
       "    </tr>\n",
       "    <tr>\n",
       "      <th>4</th>\n",
       "      <td>52.0</td>\n",
       "      <td>Male</td>\n",
       "      <td>Master's</td>\n",
       "      <td>Director</td>\n",
       "      <td>20.0</td>\n",
       "      <td>200000.0</td>\n",
       "    </tr>\n",
       "  </tbody>\n",
       "</table>\n",
       "</div>"
      ],
      "text/plain": [
       "    Age  Gender Education Level          Job Title  Years of Experience  \\\n",
       "0  32.0    Male      Bachelor's  Software Engineer                  5.0   \n",
       "1  28.0  Female        Master's       Data Analyst                  3.0   \n",
       "2  45.0    Male             PhD     Senior Manager                 15.0   \n",
       "3  36.0  Female      Bachelor's    Sales Associate                  7.0   \n",
       "4  52.0    Male        Master's           Director                 20.0   \n",
       "\n",
       "     Salary  \n",
       "0   90000.0  \n",
       "1   65000.0  \n",
       "2  150000.0  \n",
       "3   60000.0  \n",
       "4  200000.0  "
      ]
     },
     "execution_count": 18,
     "metadata": {},
     "output_type": "execute_result"
    }
   ],
   "source": [
    "df.head()"
   ]
  },
  {
   "cell_type": "code",
   "execution_count": 19,
   "id": "91cc04eb-6743-41fc-a76e-292d2533d45e",
   "metadata": {},
   "outputs": [
    {
     "data": {
      "text/html": [
       "<div>\n",
       "<style scoped>\n",
       "    .dataframe tbody tr th:only-of-type {\n",
       "        vertical-align: middle;\n",
       "    }\n",
       "\n",
       "    .dataframe tbody tr th {\n",
       "        vertical-align: top;\n",
       "    }\n",
       "\n",
       "    .dataframe thead th {\n",
       "        text-align: right;\n",
       "    }\n",
       "</style>\n",
       "<table border=\"1\" class=\"dataframe\">\n",
       "  <thead>\n",
       "    <tr style=\"text-align: right;\">\n",
       "      <th></th>\n",
       "      <th>Age</th>\n",
       "      <th>Gender</th>\n",
       "      <th>Education Level</th>\n",
       "      <th>Job Title</th>\n",
       "      <th>Salary</th>\n",
       "    </tr>\n",
       "  </thead>\n",
       "  <tbody>\n",
       "    <tr>\n",
       "      <th>0</th>\n",
       "      <td>32.0</td>\n",
       "      <td>Male</td>\n",
       "      <td>Bachelor's</td>\n",
       "      <td>Software Engineer</td>\n",
       "      <td>90000.0</td>\n",
       "    </tr>\n",
       "    <tr>\n",
       "      <th>1</th>\n",
       "      <td>28.0</td>\n",
       "      <td>Female</td>\n",
       "      <td>Master's</td>\n",
       "      <td>Data Analyst</td>\n",
       "      <td>65000.0</td>\n",
       "    </tr>\n",
       "    <tr>\n",
       "      <th>2</th>\n",
       "      <td>45.0</td>\n",
       "      <td>Male</td>\n",
       "      <td>PhD</td>\n",
       "      <td>Senior Manager</td>\n",
       "      <td>150000.0</td>\n",
       "    </tr>\n",
       "    <tr>\n",
       "      <th>3</th>\n",
       "      <td>36.0</td>\n",
       "      <td>Female</td>\n",
       "      <td>Bachelor's</td>\n",
       "      <td>Sales Associate</td>\n",
       "      <td>60000.0</td>\n",
       "    </tr>\n",
       "    <tr>\n",
       "      <th>4</th>\n",
       "      <td>52.0</td>\n",
       "      <td>Male</td>\n",
       "      <td>Master's</td>\n",
       "      <td>Director</td>\n",
       "      <td>200000.0</td>\n",
       "    </tr>\n",
       "  </tbody>\n",
       "</table>\n",
       "</div>"
      ],
      "text/plain": [
       "    Age  Gender Education Level          Job Title    Salary\n",
       "0  32.0    Male      Bachelor's  Software Engineer   90000.0\n",
       "1  28.0  Female        Master's       Data Analyst   65000.0\n",
       "2  45.0    Male             PhD     Senior Manager  150000.0\n",
       "3  36.0  Female      Bachelor's    Sales Associate   60000.0\n",
       "4  52.0    Male        Master's           Director  200000.0"
      ]
     },
     "execution_count": 19,
     "metadata": {},
     "output_type": "execute_result"
    }
   ],
   "source": [
    "\n",
    "df = df.drop(columns=[\"Years of Experience\"], errors='ignore')\n",
    "df.head()"
   ]
  },
  {
   "cell_type": "code",
   "execution_count": 20,
   "id": "f5f0c41f-c0e0-4e59-950f-0e5c43e10cd7",
   "metadata": {},
   "outputs": [
    {
     "name": "stdout",
     "output_type": "stream",
     "text": [
      "Rows with missing Salary: 5\n",
      "Missing values after imputation/dropping:\n",
      "Age                0\n",
      "Gender             0\n",
      "Education Level    0\n",
      "Job Title          0\n",
      "Salary             0\n",
      "dtype: int64\n"
     ]
    }
   ],
   "source": [
    "# handle missing\n",
    "from sklearn.impute import SimpleImputer\n",
    "\n",
    "cat_cols = [\"Age\", \"Gender\", \"Education Level\", \"Job Title\"]\n",
    "target_col = \"Salary\"\n",
    "\n",
    "# drop rows where Salary missing (recommended)\n",
    "missing_salary_count = df[target_col].isna().sum()\n",
    "print(f\"Rows with missing Salary: {missing_salary_count}\")\n",
    "df = df[~df[target_col].isna()].copy()\n",
    "\n",
    "# For categorical columns, fill missing with most frequent\n",
    "cat_imputer = SimpleImputer(strategy=\"most_frequent\")\n",
    "df[cat_cols] = cat_imputer.fit_transform(df[cat_cols])\n",
    "\n",
    "print(\"Missing values after imputation/dropping:\")\n",
    "print(df.isna().sum())\n"
   ]
  },
  {
   "cell_type": "code",
   "execution_count": 21,
   "id": "a9a1d62d-f62d-471c-adc4-a07c0baa8304",
   "metadata": {},
   "outputs": [
    {
     "name": "stdout",
     "output_type": "stream",
     "text": [
      "Train shape: (5359, 4) (5359,)\n",
      "Test shape: (1340, 4) (1340,)\n"
     ]
    }
   ],
   "source": [
    "# train test split\n",
    "from sklearn.model_selection import train_test_split\n",
    "\n",
    "X = df[cat_cols]  \n",
    "y = df[target_col]\n",
    "\n",
    "X_train, X_test, y_train, y_test = train_test_split(\n",
    "    X, y, test_size=0.2, random_state=42\n",
    ")\n",
    "\n",
    "print(\"Train shape:\", X_train.shape, y_train.shape)\n",
    "print(\"Test shape:\", X_test.shape, y_test.shape)\n"
   ]
  },
  {
   "cell_type": "code",
   "execution_count": 22,
   "id": "07790b4b-36f8-4ad7-9fdc-dc4dc9001c7f",
   "metadata": {},
   "outputs": [
    {
     "name": "stdout",
     "output_type": "stream",
     "text": [
      "Transformed X_train shape: (5359, 219)\n"
     ]
    }
   ],
   "source": [
    "# preprocessing pipeline\n",
    "\n",
    "from sklearn.pipeline import Pipeline\n",
    "from sklearn.compose import ColumnTransformer\n",
    "from sklearn.preprocessing import OneHotEncoder\n",
    "from sklearn.impute import SimpleImputer\n",
    "\n",
    "categorical_transformer = Pipeline(steps=[\n",
    "    (\"imputer\", SimpleImputer(strategy=\"most_frequent\")),\n",
    "    (\"onehot\", OneHotEncoder(handle_unknown=\"ignore\", sparse_output=False))\n",
    "])\n",
    "\n",
    "preprocessor = ColumnTransformer(transformers=[\n",
    "    (\"cat\", categorical_transformer, cat_cols)\n",
    "], remainder=\"drop\")  # drop any other columns\n",
    "\n",
    "# Example: fit and transform on training set to see feature shape\n",
    "X_train_prep = preprocessor.fit_transform(X_train)\n",
    "print(\"Transformed X_train shape:\", X_train_prep.shape)\n"
   ]
  },
  {
   "cell_type": "code",
   "execution_count": 23,
   "id": "447a3896-c9b9-4747-a57a-11a1de0284e7",
   "metadata": {},
   "outputs": [
    {
     "name": "stdout",
     "output_type": "stream",
     "text": [
      "Models to evaluate: ['LinearRegression', 'Ridge', 'RandomForest', 'XGBoost', 'GradientBoosting']\n"
     ]
    }
   ],
   "source": [
    "# models setup\n",
    "from sklearn.linear_model import LinearRegression, Ridge\n",
    "from sklearn.ensemble import RandomForestRegressor, GradientBoostingRegressor\n",
    "from xgboost import XGBRegressor\n",
    "\n",
    "models = {\n",
    "    \"LinearRegression\": LinearRegression(),\n",
    "    \"Ridge\": Ridge(random_state=42),\n",
    "    \"RandomForest\": RandomForestRegressor(random_state=42, n_jobs=-1),\n",
    "    \"XGBoost\": XGBRegressor(random_state=42, n_jobs=-1, verbosity=0),\n",
    "    \"GradientBoosting\": GradientBoostingRegressor(random_state=42),\n",
    "}\n",
    "\n",
    "print(\"Models to evaluate:\", list(models.keys()))\n"
   ]
  },
  {
   "cell_type": "code",
   "execution_count": 24,
   "id": "480274b6-1691-4e21-b8bd-949ec2240246",
   "metadata": {},
   "outputs": [
    {
     "name": "stdout",
     "output_type": "stream",
     "text": [
      "LinearRegression: MAE=13301.29, RMSE=19067.96, R2=0.869\n",
      "Ridge: MAE=13684.19, RMSE=19210.71, R2=0.867\n",
      "RandomForest: MAE=5662.18, RMSE=12278.14, R2=0.946\n",
      "XGBoost: MAE=7812.27, RMSE=12619.95, R2=0.943\n",
      "GradientBoosting: MAE=18422.34, RMSE=24119.54, R2=0.790\n",
      "\n",
      "Summary:\n",
      "                            MAE          RMSE        R2\n",
      "RandomForest       5662.180992  12278.142210  0.945567\n",
      "XGBoost            7812.273137  12619.948579  0.942537\n",
      "LinearRegression  13301.287971  19067.958277  0.868844\n",
      "Ridge             13684.186299  19210.714121  0.866863\n",
      "GradientBoosting  18422.343177  24119.540202  0.790028\n"
     ]
    }
   ],
   "source": [
    "\n",
    "from sklearn.model_selection import cross_validate, KFold\n",
    "from sklearn.metrics import make_scorer, mean_absolute_error, mean_squared_error, r2_score\n",
    "import numpy as np\n",
    "\n",
    "# Create a pipeline per model that includes preprocessing\n",
    "cv = KFold(n_splits=5, shuffle=True, random_state=42)\n",
    "scoring = {\n",
    "    \"MAE\": \"neg_mean_absolute_error\",\n",
    "    \"MSE\": \"neg_mean_squared_error\",\n",
    "    \"R2\": \"r2\"\n",
    "}\n",
    "\n",
    "results = {}\n",
    "for name, model in models.items():\n",
    "    pipe = Pipeline(steps=[(\"preprocessor\", preprocessor), (\"model\", model)])\n",
    "    cv_res = cross_validate(pipe, X_train, y_train, cv=cv, scoring=scoring, n_jobs=-1, return_train_score=False)\n",
    "    mae = -np.mean(cv_res[\"test_MAE\"])\n",
    "    mse = -np.mean(cv_res[\"test_MSE\"])\n",
    "    rmse = np.sqrt(mse)\n",
    "    r2 = np.mean(cv_res[\"test_R2\"])\n",
    "    results[name] = {\"MAE\": mae, \"RMSE\": rmse, \"R2\": r2}\n",
    "    print(f\"{name}: MAE={mae:.2f}, RMSE={rmse:.2f}, R2={r2:.3f}\")\n",
    "\n",
    "# Convert results to DataFrame for nicer display\n",
    "import pandas as pd\n",
    "results_df = pd.DataFrame(results).T[[\"MAE\", \"RMSE\", \"R2\"]].sort_values(\"RMSE\")\n",
    "print(\"\\nSummary:\\n\", results_df)\n"
   ]
  },
  {
   "cell_type": "code",
   "execution_count": 25,
   "id": "57bcc33d-f2ac-4374-ac80-80a8837d781d",
   "metadata": {},
   "outputs": [
    {
     "name": "stdout",
     "output_type": "stream",
     "text": [
      "LinearRegression:  MAE=13099.69 | RMSE=18636.26 | R2=0.878\n",
      "Ridge:  MAE=13383.41 | RMSE=18671.68 | R2=0.877\n",
      "RandomForest:  MAE=4851.63 | RMSE=10292.76 | R2=0.963\n",
      "XGBoost:  MAE=6893.90 | RMSE=10902.53 | R2=0.958\n",
      "GradientBoosting:  MAE=18285.82 | RMSE=23925.58 | R2=0.799\n",
      "\n",
      "=== Test set comparison ===\n",
      "                           MAE          RMSE        R2\n",
      "RandomForest       4851.633762  10292.759522  0.962736\n",
      "XGBoost            6893.897224  10902.530490  0.958190\n",
      "LinearRegression  13099.686340  18636.258713  0.877835\n",
      "Ridge             13383.413088  18671.675426  0.877370\n",
      "GradientBoosting  18285.817647  23925.576779  0.798649\n"
     ]
    }
   ],
   "source": [
    "# evaluate_all_models_on_test\n",
    "\n",
    "from sklearn.metrics import mean_absolute_error, mean_squared_error, r2_score\n",
    "import numpy as np\n",
    "import pandas as pd\n",
    "\n",
    "test_results = {}\n",
    "\n",
    "for name, model in models.items():\n",
    "    pipe = Pipeline(steps=[(\"preprocessor\", preprocessor), (\"model\", model)])\n",
    "    pipe.fit(X_train, y_train)             # fit on training set only\n",
    "    y_pred = pipe.predict(X_test)          # evaluate on test set\n",
    "\n",
    "    mae = mean_absolute_error(y_test, y_pred)\n",
    "    rmse = np.sqrt(mean_squared_error(y_test, y_pred))\n",
    "    r2 = r2_score(y_test, y_pred)\n",
    "\n",
    "    test_results[name] = {\"MAE\": mae, \"RMSE\": rmse, \"R2\": r2}\n",
    "    print(f\"{name}:  MAE={mae:.2f} | RMSE={rmse:.2f} | R2={r2:.3f}\")\n",
    "\n",
    "#  summary table\n",
    "test_results_df = pd.DataFrame(test_results).T.sort_values(\"RMSE\")\n",
    "print(\"\\n=== Test set comparison ===\")\n",
    "print(test_results_df)\n"
   ]
  },
  {
   "cell_type": "code",
   "execution_count": 26,
   "id": "c358cb8b-8bdf-48f5-a90e-7b022fc9eb1e",
   "metadata": {},
   "outputs": [
    {
     "name": "stdout",
     "output_type": "stream",
     "text": [
      "Skipping LinearRegression (no params to tune).\n",
      "\n",
      "🔍 Tuning Ridge ...\n",
      "Fitting 5 folds for each of 5 candidates, totalling 25 fits\n"
     ]
    },
    {
     "name": "stderr",
     "output_type": "stream",
     "text": [
      "/opt/anaconda3/lib/python3.13/site-packages/sklearn/model_selection/_search.py:317: UserWarning: The total space of parameters 5 is smaller than n_iter=10. Running 5 iterations. For exhaustive searches, use GridSearchCV.\n",
      "  warnings.warn(\n"
     ]
    },
    {
     "name": "stdout",
     "output_type": "stream",
     "text": [
      "✅ Best Ridge params: {'model__alpha': 0.01}\n",
      "Best CV MAE: 13302.50\n",
      "\n",
      "🔍 Tuning RandomForest ...\n",
      "Fitting 5 folds for each of 10 candidates, totalling 50 fits\n",
      "✅ Best RandomForest params: {'model__n_estimators': 400, 'model__min_samples_split': 2, 'model__min_samples_leaf': 1, 'model__max_depth': 40}\n",
      "Best CV MAE: 5831.97\n",
      "\n",
      "🔍 Tuning XGBoost ...\n",
      "Fitting 5 folds for each of 10 candidates, totalling 50 fits\n",
      "✅ Best XGBoost params: {'model__subsample': 1.0, 'model__n_estimators': 200, 'model__max_depth': 6, 'model__learning_rate': 0.1, 'model__colsample_bytree': 0.7}\n",
      "Best CV MAE: 9285.58\n",
      "\n",
      "🔍 Tuning GradientBoosting ...\n",
      "Fitting 5 folds for each of 10 candidates, totalling 50 fits\n",
      "✅ Best GradientBoosting params: {'model__n_estimators': 300, 'model__max_depth': 5, 'model__learning_rate': 0.05}\n",
      "Best CV MAE: 11981.15\n",
      "\n",
      "=== Tuned model results on test set ===\n",
      "                    MAE (Test)   RMSE (Test) R2 (Test)  \\\n",
      "RandomForest       4964.903802  10256.787523  0.962996   \n",
      "XGBoost            8496.831504  12634.830412  0.943848   \n",
      "GradientBoosting  11393.636862  15699.059969  0.913308   \n",
      "Ridge             13097.325693  18631.602699  0.877896   \n",
      "\n",
      "                                                        Best Params  \n",
      "RandomForest      {'model__n_estimators': 400, 'model__min_sampl...  \n",
      "XGBoost           {'model__subsample': 1.0, 'model__n_estimators...  \n",
      "GradientBoosting  {'model__n_estimators': 300, 'model__max_depth...  \n",
      "Ridge                                        {'model__alpha': 0.01}  \n"
     ]
    }
   ],
   "source": [
    "# hyperparameter_tuning_all_models\n",
    "\n",
    "from sklearn.model_selection import RandomizedSearchCV, KFold\n",
    "\n",
    "param_grids = {\n",
    "    \"Ridge\": {\n",
    "        \"model__alpha\": [0.01, 0.1, 1, 10, 100]\n",
    "    },\n",
    "    \"RandomForest\": {\n",
    "        \"model__n_estimators\": [100, 200, 400],\n",
    "        \"model__max_depth\": [None, 10, 20, 40],\n",
    "        \"model__min_samples_split\": [2, 5, 10],\n",
    "        \"model__min_samples_leaf\": [1, 2, 4]\n",
    "    },\n",
    "    \"XGBoost\": {\n",
    "        \"model__n_estimators\": [100, 200, 400],\n",
    "        \"model__learning_rate\": [0.01, 0.05, 0.1],\n",
    "        \"model__max_depth\": [3, 6, 10],\n",
    "        \"model__subsample\": [0.7, 1.0],\n",
    "        \"model__colsample_bytree\": [0.7, 1.0]\n",
    "    },\n",
    "    \"GradientBoosting\": {\n",
    "        \"model__n_estimators\": [100, 200, 300],\n",
    "        \"model__learning_rate\": [0.01, 0.05, 0.1],\n",
    "        \"model__max_depth\": [3, 4, 5]\n",
    "    }\n",
    "}\n",
    "\n",
    "\n",
    "\n",
    "cv = KFold(n_splits=5, shuffle=True, random_state=42)\n",
    "tuned_models = {}\n",
    "tuned_results = {}\n",
    "\n",
    "for name, model in models.items():\n",
    "    if name not in param_grids:\n",
    "        print(f\"Skipping {name} (no params to tune).\")\n",
    "        continue\n",
    "\n",
    "    print(f\"\\n🔍 Tuning {name} ...\")\n",
    "    pipe = Pipeline([(\"preprocessor\", preprocessor), (\"model\", model)])\n",
    "    search = RandomizedSearchCV(\n",
    "        estimator=pipe,\n",
    "        param_distributions=param_grids[name],\n",
    "        n_iter=10,             # increase for deeper search\n",
    "        cv=cv,\n",
    "        scoring=\"neg_mean_absolute_error\",\n",
    "        n_jobs=-1,\n",
    "        verbose=1,\n",
    "        random_state=42\n",
    "    )\n",
    "    search.fit(X_train, y_train)\n",
    "    tuned_models[name] = search.best_estimator_\n",
    "\n",
    "    print(f\"✅ Best {name} params:\", search.best_params_)\n",
    "    print(f\"Best CV MAE: {-search.best_score_:.2f}\")\n",
    "\n",
    "    # Evaluate tuned model on test set\n",
    "    y_pred = tuned_models[name].predict(X_test)\n",
    "    mae = mean_absolute_error(y_test, y_pred)\n",
    "    rmse = np.sqrt(mean_squared_error(y_test, y_pred))\n",
    "    r2 = r2_score(y_test, y_pred)\n",
    "\n",
    "    tuned_results[name] = {\n",
    "        \"MAE (Test)\": mae,\n",
    "        \"RMSE (Test)\": rmse,\n",
    "        \"R2 (Test)\": r2,\n",
    "        \"Best Params\": search.best_params_\n",
    "    }\n",
    "\n",
    "# Final comparison\n",
    "tuned_results_df = pd.DataFrame(tuned_results).T.sort_values(\"RMSE (Test)\")\n",
    "print(\"\\n=== Tuned model results on test set ===\")\n",
    "print(tuned_results_df)"
   ]
  },
  {
   "cell_type": "code",
   "execution_count": 27,
   "id": "32422fab-489a-4ea0-bb85-d97e481957fe",
   "metadata": {},
   "outputs": [
    {
     "name": "stdout",
     "output_type": "stream",
     "text": [
      "✅ Re-saved the correct RandomForest pipeline model!\n"
     ]
    }
   ],
   "source": [
    "import pickle\n",
    "\n",
    "# Assuming you still have your tuned Random Forest pipeline as `best_rf_model`\n",
    "best_rf_model = tuned_models[\"RandomForest\"]  # from your tuning dictionary\n",
    "\n",
    "with open(\"rf_salary_model.pkl\", \"wb\") as f:\n",
    "    pickle.dump(best_rf_model, f)\n",
    "\n",
    "print(\"✅ Re-saved the correct RandomForest pipeline model!\")\n"
   ]
  },
  {
   "cell_type": "code",
   "execution_count": null,
   "id": "aca559c6-776a-47a9-8d8d-dc73570c4986",
   "metadata": {},
   "outputs": [],
   "source": []
  }
 ],
 "metadata": {
  "kernelspec": {
   "display_name": "Python [conda env:base] *",
   "language": "python",
   "name": "conda-base-py"
  },
  "language_info": {
   "codemirror_mode": {
    "name": "ipython",
    "version": 3
   },
   "file_extension": ".py",
   "mimetype": "text/x-python",
   "name": "python",
   "nbconvert_exporter": "python",
   "pygments_lexer": "ipython3",
   "version": "3.13.5"
  }
 },
 "nbformat": 4,
 "nbformat_minor": 5
}

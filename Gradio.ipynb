{
 "cells": [
  {
   "cell_type": "code",
   "execution_count": 21,
   "id": "8165e2d4-ef88-4fa9-85be-f699a3a5dbd3",
   "metadata": {},
   "outputs": [
    {
     "name": "stdout",
     "output_type": "stream",
     "text": [
      "✅ Model loaded and ready to use.\n"
     ]
    }
   ],
   "source": [
    "\n",
    "import joblib\n",
    "\n",
    "# Load the pipeline\n",
    "rf_model = joblib.load(\"rf_salary_model.pkl\")\n",
    "\n",
    "print(\"✅ Model loaded and ready to use.\")"
   ]
  },
  {
   "cell_type": "code",
   "execution_count": 22,
   "id": "d9abaae1-bb5e-418b-aaa6-27f4a71b36f8",
   "metadata": {},
   "outputs": [],
   "source": [
    "\n",
    "import pandas as pd\n",
    "\n",
    "def predict_salary(age, gender, education, job_title):\n",
    "    # Create a dataframe from user inputs\n",
    "    input_data = pd.DataFrame({\n",
    "        \"Age\": [age],\n",
    "        \"Gender\": [gender],\n",
    "        \"Education Level\": [education],\n",
    "        \"Job Title\": [job_title]\n",
    "    })\n",
    "\n",
    "    # Predict using the loaded pipeline\n",
    "    predicted_salary = rf_model.predict(input_data)[0]\n",
    "\n",
    "    # Save the data (append mode)\n",
    "    new_entry = input_data.copy()\n",
    "    new_entry[\"Predicted Salary\"] = predicted_salary\n",
    "    new_entry.to_csv(\"predicted_salaries.csv\", mode=\"a\", header=False, index=False)\n",
    "\n",
    "    return \"Thank you! Your response has been recorded.\""
   ]
  },
  {
   "cell_type": "code",
   "execution_count": 23,
   "id": "5c6c9f06-bd53-4a6f-a704-1dc0e18ce4a8",
   "metadata": {},
   "outputs": [
    {
     "name": "stdout",
     "output_type": "stream",
     "text": [
      "* Running on local URL:  http://127.0.0.1:7862\n",
      "* To create a public link, set `share=True` in `launch()`.\n"
     ]
    },
    {
     "data": {
      "text/html": [
       "<div><iframe src=\"http://127.0.0.1:7862/\" width=\"100%\" height=\"500\" allow=\"autoplay; camera; microphone; clipboard-read; clipboard-write;\" frameborder=\"0\" allowfullscreen></iframe></div>"
      ],
      "text/plain": [
       "<IPython.core.display.HTML object>"
      ]
     },
     "metadata": {},
     "output_type": "display_data"
    },
    {
     "data": {
      "text/plain": []
     },
     "execution_count": 23,
     "metadata": {},
     "output_type": "execute_result"
    }
   ],
   "source": [
    "\n",
    "import gradio as gr\n",
    "\n",
    "# Define the app interface\n",
    "with gr.Blocks() as demo:\n",
    "    gr.Markdown(\"Please answer the following questions:\")\n",
    "\n",
    "    age = gr.Number(label=\"What is your Age?\")\n",
    "    gender = gr.Dropdown([\"Male\", \"Female\", \"Other\"], label=\"What is your Gender?\")\n",
    "    education = gr.Dropdown(\n",
    "        [\"High School\", \"Bachelor's\", \"Master's\", \"PhD\", \"Other\"],\n",
    "        label=\"What is your Education Level?\"\n",
    "    )\n",
    "    job_title = gr.Textbox(label=\"What is your Job Title?\")\n",
    "\n",
    "    submit_btn = gr.Button(\"Submit\")\n",
    "\n",
    "    output = gr.Textbox(label=\"Message\", interactive=False)\n",
    "\n",
    "    submit_btn.click(predict_salary, inputs=[age, gender, education, job_title], outputs=output)\n",
    "\n",
    "demo.launch()"
   ]
  },
  {
   "cell_type": "code",
   "execution_count": 24,
   "id": "e909f01a-9ee2-4780-822b-5a9499a6be7f",
   "metadata": {},
   "outputs": [],
   "source": [
    "from dotenv import load_dotenv\n",
    "import os\n",
    "from openai import OpenAI\n",
    "\n",
    "load_dotenv()\n",
    "client = OpenAI(api_key=os.getenv(\"OPENAI_API_KEY\"))"
   ]
  },
  {
   "cell_type": "code",
   "execution_count": 25,
   "id": "39ae931d-4dcf-48c9-be5b-1813d55dc65e",
   "metadata": {},
   "outputs": [],
   "source": [
    "md_path = \"world_tour_guide.md\"\n",
    "with open(md_path, \"r\", encoding=\"utf-8\") as f:\n",
    "    md_text = f.read()"
   ]
  },
  {
   "cell_type": "code",
   "execution_count": 26,
   "id": "6eee15e5-cc18-487f-b845-a98bb1045293",
   "metadata": {},
   "outputs": [
    {
     "name": "stdout",
     "output_type": "stream",
     "text": [
      "✅ Loaded 19 cities from GPT parsing\n",
      "\n",
      "Bangkok, Thailand → 24000\n",
      "Hoi An, Vietnam → 21700\n",
      "Barcelona, Spain → 50000\n"
     ]
    }
   ],
   "source": [
    "prompt = f\"\"\"\n",
    "You are a data extraction model. The following text is a Markdown travel guide that contains\n",
    "sections about different cities, each with attractions and an estimated yearly salary guideline.\n",
    "\n",
    "Please extract this data and return **ONLY a valid JSON array**, no extra text.\n",
    "Format:\n",
    "[\n",
    "  {{\n",
    "    \"city\": \"City name, Country\",\n",
    "    \"attractions\": \"short summary of activities\",\n",
    "    \"estimated_salary\": 20000-40000\n",
    "  }},\n",
    "  ...\n",
    "]\n",
    "\n",
    "Markdown file:\n",
    "---\n",
    "{md_text[:8000]}\n",
    "---\n",
    "\"\"\"\n",
    "\n",
    "response = client.chat.completions.create(\n",
    "    model=\"gpt-4o-mini\",\n",
    "    messages=[\n",
    "        {\"role\": \"system\", \"content\": \"Extract structured JSON data from the Markdown.\"},\n",
    "        {\"role\": \"user\", \"content\": prompt}\n",
    "    ],\n",
    "    temperature=0\n",
    ")\n",
    "\n",
    "raw_output = response.choices[0].message.content.strip()\n",
    "\n",
    "# --- Try to safely extract JSON ---\n",
    "try:\n",
    "    # Remove Markdown code fences if present\n",
    "    json_str = re.search(r\"\\[.*\\]\", raw_output, re.DOTALL).group(0)\n",
    "    city_docs = json.loads(json_str)\n",
    "except Exception as e:\n",
    "    print(\"⚠️ Could not parse JSON directly. Printing model output for debugging:\\n\")\n",
    "    print(raw_output[:1000])  # show first part\n",
    "    raise e\n",
    "\n",
    "print(f\"✅ Loaded {len(city_docs)} cities from GPT parsing\\n\")\n",
    "for c in city_docs[:3]:\n",
    "    print(c[\"city\"], \"→\", c[\"estimated_salary\"])"
   ]
  },
  {
   "cell_type": "code",
   "execution_count": 27,
   "id": "2758f4ae-6ca4-494d-b4eb-0588be1e059a",
   "metadata": {},
   "outputs": [],
   "source": [
    "import json\n",
    "\n",
    "with open(\"parsed_city_data.json\", \"w\", encoding=\"utf-8\") as f:\n",
    "    json.dump(city_docs, f, indent=2, ensure_ascii=False)"
   ]
  },
  {
   "cell_type": "markdown",
   "id": "dc32fe9f-68e8-4871-beb8-01fd7b37fc32",
   "metadata": {},
   "source": [
    "#### Let’s connect everything built so far:\n",
    "\n",
    "##### ✅ 1. The trained Random Forest model (rf_salary_model.pkl)\n",
    "##### ✅ 2. The structured city data you extracted with GPT (city_docs)\n",
    "##### ✅ 3. A Gradio interface that collects the 4 user answers and predicts salary\n",
    "##### ✅ 4. GPT again to generate a Markdown travel brochure for the user"
   ]
  },
  {
   "cell_type": "markdown",
   "id": "297a900c-2f7a-447e-94fe-16ddebec5a70",
   "metadata": {},
   "source": [
    "#### 🧠 Overview \n",
    "\n",
    "##### 1. User answers: Age, Gender, Education Level, Job Title\n",
    "\n",
    "##### 2. Model predicts salary (but we don’t show it to the user)\n",
    "\n",
    "##### 3. Based on that salary → select the closest matching cities from city_docs\n",
    "\n",
    "##### 4. Send that info to GPT to generate a nice Markdown brochure\n",
    "\n",
    "##### 5. Show the Markdown result to the user in Gradio"
   ]
  },
  {
   "cell_type": "code",
   "execution_count": 29,
   "id": "d35ace91-286c-4800-9e40-434a4b3cd14a",
   "metadata": {},
   "outputs": [
    {
     "name": "stdout",
     "output_type": "stream",
     "text": [
      "✅ Loaded 19 cities and the trained salary model\n"
     ]
    }
   ],
   "source": [
    "import gradio as gr\n",
    "import pickle\n",
    "import numpy as np\n",
    "import json\n",
    "from openai import OpenAI\n",
    "from dotenv import load_dotenv\n",
    "import os\n",
    "\n",
    "# Load environment variables\n",
    "load_dotenv()\n",
    "client = OpenAI(api_key=os.getenv(\"OPENAI_API_KEY\"))\n",
    "\n",
    "# Load trained RF model pipeline\n",
    "with open(\"rf_salary_model.pkl\", \"rb\") as f:\n",
    "    model = pickle.load(f)\n",
    "\n",
    "# Load structured city data \n",
    "with open(\"parsed_city_data.json\", \"r\", encoding=\"utf-8\") as f:\n",
    "    city_docs = json.load(f)\n",
    "\n",
    "print(f\"✅ Loaded {len(city_docs)} cities and the trained salary model\")\n"
   ]
  },
  {
   "cell_type": "code",
   "execution_count": 30,
   "id": "7f455c4b-89b8-49de-b80d-7c43b1d7a7f4",
   "metadata": {},
   "outputs": [],
   "source": [
    "def predict_salary(age, gender, education, job):\n",
    "    input_data = {\n",
    "        \"Age\": [int(age)],\n",
    "        \"Gender\": [gender],\n",
    "        \"Education Level\": [education],\n",
    "        \"Job Title\": [job]\n",
    "    }\n",
    "    predicted_salary = model.predict(pd.DataFrame(input_data))[0]\n",
    "    return predicted_salary\n"
   ]
  },
  {
   "cell_type": "code",
   "execution_count": 31,
   "id": "8bd67e25-d58e-4eb0-989b-41f95d30abdd",
   "metadata": {},
   "outputs": [],
   "source": [
    "def find_best_cities(pred_salary, n=3):\n",
    "    cities_sorted = sorted(\n",
    "        city_docs,\n",
    "        key=lambda c: abs(c[\"estimated_salary\"] - pred_salary)\n",
    "    )\n",
    "    return cities_sorted[:n]\n"
   ]
  },
  {
   "cell_type": "code",
   "execution_count": 32,
   "id": "381e98ed-27cc-4b7f-bc06-f946c7c77814",
   "metadata": {},
   "outputs": [],
   "source": [
    "def create_brochure(pred_salary, cities):\n",
    "    city_descriptions = \"\\n\\n\".join([\n",
    "        f\"### {c['city']}\\n{c['attractions']}\" for c in cities\n",
    "    ])\n",
    "\n",
    "    prompt = f\"\"\"\n",
    "You are a travel guide writer.\n",
    "\n",
    "A user’s estimated yearly income is **${pred_salary:,.0f}**.\n",
    "Based on this salary, suggest 2–3 great travel destinations from the following data,\n",
    "and write a well-structured Markdown brochure with:\n",
    "- A warm short introduction based on their budget level\n",
    "- One section per city with highlights and attractions\n",
    "- A closing recommendation paragraph\n",
    "\n",
    "Here are the available city options:\n",
    "{city_descriptions}\n",
    "\"\"\"\n",
    "\n",
    "    response = client.chat.completions.create(\n",
    "        model=\"gpt-4o-mini\",\n",
    "        messages=[\n",
    "            {\"role\": \"system\", \"content\": \"You write engaging Markdown travel brochures.\"},\n",
    "            {\"role\": \"user\", \"content\": prompt}\n",
    "        ],\n",
    "        temperature=0.7\n",
    "    )\n",
    "    return response.choices[0].message.content.strip()\n"
   ]
  },
  {
   "cell_type": "code",
   "execution_count": 33,
   "id": "b9034d56-a5c5-45c5-bd5d-8a1d4355517c",
   "metadata": {},
   "outputs": [
    {
     "name": "stdout",
     "output_type": "stream",
     "text": [
      "* Running on local URL:  http://127.0.0.1:7863\n",
      "* To create a public link, set `share=True` in `launch()`.\n"
     ]
    },
    {
     "data": {
      "text/html": [
       "<div><iframe src=\"http://127.0.0.1:7863/\" width=\"100%\" height=\"500\" allow=\"autoplay; camera; microphone; clipboard-read; clipboard-write;\" frameborder=\"0\" allowfullscreen></iframe></div>"
      ],
      "text/plain": [
       "<IPython.core.display.HTML object>"
      ]
     },
     "metadata": {},
     "output_type": "display_data"
    },
    {
     "data": {
      "text/plain": []
     },
     "execution_count": 33,
     "metadata": {},
     "output_type": "execute_result"
    }
   ],
   "source": [
    "import pandas as pd\n",
    "\n",
    "def process_input(age, gender, education, job):\n",
    "    # Step 1: Predict salary\n",
    "    salary = predict_salary(age, gender, education, job)\n",
    "\n",
    "    # Step 2: Select suitable cities\n",
    "    top_cities = find_best_cities(salary)\n",
    "\n",
    "    # Step 3: Generate brochure text\n",
    "    brochure_md = create_brochure(salary, top_cities)\n",
    "\n",
    "    return brochure_md\n",
    "\n",
    "\n",
    "# Create Gradio app\n",
    "demo = gr.Interface(\n",
    "    fn=process_input,\n",
    "    inputs=[\n",
    "        gr.Number(label=\"Your Age\", precision=0),\n",
    "        gr.Radio([\"Male\", \"Female\", \"Other\"], label=\"Gender\"),\n",
    "        gr.Dropdown([\"High School\", \"Bachelor's\", \"Master's\", \"PhD\"], label=\"Education Level\"),\n",
    "        gr.Textbox(label=\"Job Title\")\n",
    "    ],\n",
    "    outputs=gr.Markdown(label=\"Your Personalized Travel Brochure\"),\n",
    "    title=\"🌍 Travel Brochure Recommender\",\n",
    "    description=\"Answer 4 quick questions please.\"\n",
    ")\n",
    "\n",
    "demo.launch()"
   ]
  },
  {
   "cell_type": "code",
   "execution_count": null,
   "id": "b62e38ad-2570-4635-bb03-f407c05a37ac",
   "metadata": {},
   "outputs": [],
   "source": []
  }
 ],
 "metadata": {
  "kernelspec": {
   "display_name": "Python [conda env:base] *",
   "language": "python",
   "name": "conda-base-py"
  },
  "language_info": {
   "codemirror_mode": {
    "name": "ipython",
    "version": 3
   },
   "file_extension": ".py",
   "mimetype": "text/x-python",
   "name": "python",
   "nbconvert_exporter": "python",
   "pygments_lexer": "ipython3",
   "version": "3.13.5"
  }
 },
 "nbformat": 4,
 "nbformat_minor": 5
}
